{
 "cells": [
  {
   "cell_type": "code",
   "execution_count": 1,
   "id": "ac1632c9",
   "metadata": {},
   "outputs": [],
   "source": [
    "# imports\n",
    "import os\n",
    "import shutil\n",
    "import cv2\n",
    "import pandas as pd\n",
    "import numpy as np\n",
    "from sklearn.model_selection import train_test_split\n"
   ]
  },
  {
   "cell_type": "code",
   "execution_count": 13,
   "id": "56e2792a",
   "metadata": {},
   "outputs": [],
   "source": [
    "# Paths to the original folders\n",
    "bike_folder = os.path.join('dataset', 'Bike')\n",
    "car_folder = os.path.join('dataset', 'Car')\n",
    "# Get the list of images in each folder\n",
    "bike_images = os.listdir(bike_folder)\n",
    "car_images = os.listdir(car_folder)\n",
    "\n",
    "# Create labels based on Folder name - Bike is 0 and car is 1\n",
    "def read_images_and_labels(path, label):\n",
    "    images = []\n",
    "    labels = []\n",
    "    for image in os.listdir(path):\n",
    "        img = cv2.imread(os.path.join(path, image))\n",
    "        img = cv2.resize(img, (300, 200))\n",
    "        img = cv2.cvtColor(img, cv2.COLOR_BGR2GRAY)\n",
    "        \n",
    "        images.append(img)\n",
    "        labels.append(label)  # Add the label for this image\n",
    "\n",
    "    images = np.array(images)\n",
    "    labels = np.array(labels)\n",
    "    return images, labels\n",
    "\n",
    "# Example to read images and labels for Bike and Car\n",
    "bike_images, bike_labels = read_images_and_labels('dataset/Bike', 0)\n",
    "car_images, car_labels = read_images_and_labels('dataset/Car', 1)\n",
    "\n",
    "# Concatenate images and labels\n",
    "images = np.concatenate((car_images, bike_images))\n",
    "labels = np.concatenate((car_labels, bike_labels))\n"
   ]
  },
  {
   "cell_type": "code",
   "execution_count": 14,
   "id": "f9d18f66",
   "metadata": {},
   "outputs": [
    {
     "name": "stdout",
     "output_type": "stream",
     "text": [
      "Dataset split into train, val, and test completed!\n",
      "Train labels distribution: [1622 1578]\n",
      "Train labels in val distribution: [1622 1578]\n",
      "Val labels distribution: [191 209]\n",
      "Test labels distribution: [378 422]\n",
      "Test labels in val distribution: [187 213]\n"
     ]
    }
   ],
   "source": [
    "# Divide to train and test\n",
    "# Split into train and test (80% train, 20% test)\n",
    "train_images, test_images, train_labels, test_labels = train_test_split(images, labels, test_size=0.2, random_state=42)\n",
    "\n",
    "# divide to train, validation and test\n",
    "# Split into train (80%), temp (20%)\n",
    "train_images_val, temp_images, train_labels_val, temp_labels = train_test_split(images, labels, test_size=0.2, random_state=42)\n",
    "\n",
    "# Split temp into validation (50% of temp) and test (50% of temp)\n",
    "val_images, test_images_val, val_labels, test_labels_val = train_test_split(temp_images, temp_labels, test_size=0.5, random_state=42)\n",
    "print(\"Dataset split into train, val, and test completed!\")\n",
    "\n",
    "\n",
    "print(\"Train labels distribution:\", np.bincount(train_labels))\n",
    "print(\"Train labels in val distribution:\", np.bincount(train_labels_val))\n",
    "print(\"Val labels distribution:\", np.bincount(val_labels))\n",
    "print(\"Test labels distribution:\", np.bincount(test_labels))\n",
    "print(\"Test labels in val distribution:\", np.bincount(test_labels_val))\n"
   ]
  },
  {
   "cell_type": "code",
   "execution_count": null,
   "id": "078beb6c",
   "metadata": {},
   "outputs": [],
   "source": []
  }
 ],
 "metadata": {
  "kernelspec": {
   "display_name": "Python 3 (ipykernel)",
   "language": "python",
   "name": "python3"
  },
  "language_info": {
   "codemirror_mode": {
    "name": "ipython",
    "version": 3
   },
   "file_extension": ".py",
   "mimetype": "text/x-python",
   "name": "python",
   "nbconvert_exporter": "python",
   "pygments_lexer": "ipython3",
   "version": "3.11.5"
  }
 },
 "nbformat": 4,
 "nbformat_minor": 5
}
